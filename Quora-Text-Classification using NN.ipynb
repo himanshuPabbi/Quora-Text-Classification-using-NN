{
 "cells": [
  {
   "cell_type": "code",
   "execution_count": 1,
   "id": "0dbf0e54",
   "metadata": {},
   "outputs": [],
   "source": [
    "import numpy as np # linear algebra\n",
    "import pandas as pd # data processing, CSV file I/O (e.g. pd.read_csv)"
   ]
  },
  {
   "cell_type": "code",
   "execution_count": 2,
   "id": "7292a1b0",
   "metadata": {},
   "outputs": [
    {
     "data": {
      "text/html": [
       "<div>\n",
       "<style scoped>\n",
       "    .dataframe tbody tr th:only-of-type {\n",
       "        vertical-align: middle;\n",
       "    }\n",
       "\n",
       "    .dataframe tbody tr th {\n",
       "        vertical-align: top;\n",
       "    }\n",
       "\n",
       "    .dataframe thead th {\n",
       "        text-align: right;\n",
       "    }\n",
       "</style>\n",
       "<table border=\"1\" class=\"dataframe\">\n",
       "  <thead>\n",
       "    <tr style=\"text-align: right;\">\n",
       "      <th></th>\n",
       "      <th>id</th>\n",
       "      <th>qid1</th>\n",
       "      <th>qid2</th>\n",
       "      <th>question1</th>\n",
       "      <th>question2</th>\n",
       "      <th>is_duplicate</th>\n",
       "    </tr>\n",
       "  </thead>\n",
       "  <tbody>\n",
       "    <tr>\n",
       "      <th>0</th>\n",
       "      <td>0</td>\n",
       "      <td>1</td>\n",
       "      <td>2</td>\n",
       "      <td>What is the step by step guide to invest in sh...</td>\n",
       "      <td>What is the step by step guide to invest in sh...</td>\n",
       "      <td>0</td>\n",
       "    </tr>\n",
       "    <tr>\n",
       "      <th>1</th>\n",
       "      <td>1</td>\n",
       "      <td>3</td>\n",
       "      <td>4</td>\n",
       "      <td>What is the story of Kohinoor (Koh-i-Noor) Dia...</td>\n",
       "      <td>What would happen if the Indian government sto...</td>\n",
       "      <td>0</td>\n",
       "    </tr>\n",
       "    <tr>\n",
       "      <th>2</th>\n",
       "      <td>2</td>\n",
       "      <td>5</td>\n",
       "      <td>6</td>\n",
       "      <td>How can I increase the speed of my internet co...</td>\n",
       "      <td>How can Internet speed be increased by hacking...</td>\n",
       "      <td>0</td>\n",
       "    </tr>\n",
       "    <tr>\n",
       "      <th>3</th>\n",
       "      <td>3</td>\n",
       "      <td>7</td>\n",
       "      <td>8</td>\n",
       "      <td>Why am I mentally very lonely? How can I solve...</td>\n",
       "      <td>Find the remainder when [math]23^{24}[/math] i...</td>\n",
       "      <td>0</td>\n",
       "    </tr>\n",
       "    <tr>\n",
       "      <th>4</th>\n",
       "      <td>4</td>\n",
       "      <td>9</td>\n",
       "      <td>10</td>\n",
       "      <td>Which one dissolve in water quikly sugar, salt...</td>\n",
       "      <td>Which fish would survive in salt water?</td>\n",
       "      <td>0</td>\n",
       "    </tr>\n",
       "    <tr>\n",
       "      <th>...</th>\n",
       "      <td>...</td>\n",
       "      <td>...</td>\n",
       "      <td>...</td>\n",
       "      <td>...</td>\n",
       "      <td>...</td>\n",
       "      <td>...</td>\n",
       "    </tr>\n",
       "    <tr>\n",
       "      <th>404285</th>\n",
       "      <td>404285</td>\n",
       "      <td>433578</td>\n",
       "      <td>379845</td>\n",
       "      <td>How many keywords are there in the Racket prog...</td>\n",
       "      <td>How many keywords are there in PERL Programmin...</td>\n",
       "      <td>0</td>\n",
       "    </tr>\n",
       "    <tr>\n",
       "      <th>404286</th>\n",
       "      <td>404286</td>\n",
       "      <td>18840</td>\n",
       "      <td>155606</td>\n",
       "      <td>Do you believe there is life after death?</td>\n",
       "      <td>Is it true that there is life after death?</td>\n",
       "      <td>1</td>\n",
       "    </tr>\n",
       "    <tr>\n",
       "      <th>404287</th>\n",
       "      <td>404287</td>\n",
       "      <td>537928</td>\n",
       "      <td>537929</td>\n",
       "      <td>What is one coin?</td>\n",
       "      <td>What's this coin?</td>\n",
       "      <td>0</td>\n",
       "    </tr>\n",
       "    <tr>\n",
       "      <th>404288</th>\n",
       "      <td>404288</td>\n",
       "      <td>537930</td>\n",
       "      <td>537931</td>\n",
       "      <td>What is the approx annual cost of living while...</td>\n",
       "      <td>I am having little hairfall problem but I want...</td>\n",
       "      <td>0</td>\n",
       "    </tr>\n",
       "    <tr>\n",
       "      <th>404289</th>\n",
       "      <td>404289</td>\n",
       "      <td>537932</td>\n",
       "      <td>537933</td>\n",
       "      <td>What is like to have sex with cousin?</td>\n",
       "      <td>What is it like to have sex with your cousin?</td>\n",
       "      <td>0</td>\n",
       "    </tr>\n",
       "  </tbody>\n",
       "</table>\n",
       "<p>404290 rows × 6 columns</p>\n",
       "</div>"
      ],
      "text/plain": [
       "            id    qid1    qid2  \\\n",
       "0            0       1       2   \n",
       "1            1       3       4   \n",
       "2            2       5       6   \n",
       "3            3       7       8   \n",
       "4            4       9      10   \n",
       "...        ...     ...     ...   \n",
       "404285  404285  433578  379845   \n",
       "404286  404286   18840  155606   \n",
       "404287  404287  537928  537929   \n",
       "404288  404288  537930  537931   \n",
       "404289  404289  537932  537933   \n",
       "\n",
       "                                                question1  \\\n",
       "0       What is the step by step guide to invest in sh...   \n",
       "1       What is the story of Kohinoor (Koh-i-Noor) Dia...   \n",
       "2       How can I increase the speed of my internet co...   \n",
       "3       Why am I mentally very lonely? How can I solve...   \n",
       "4       Which one dissolve in water quikly sugar, salt...   \n",
       "...                                                   ...   \n",
       "404285  How many keywords are there in the Racket prog...   \n",
       "404286          Do you believe there is life after death?   \n",
       "404287                                  What is one coin?   \n",
       "404288  What is the approx annual cost of living while...   \n",
       "404289              What is like to have sex with cousin?   \n",
       "\n",
       "                                                question2  is_duplicate  \n",
       "0       What is the step by step guide to invest in sh...             0  \n",
       "1       What would happen if the Indian government sto...             0  \n",
       "2       How can Internet speed be increased by hacking...             0  \n",
       "3       Find the remainder when [math]23^{24}[/math] i...             0  \n",
       "4                 Which fish would survive in salt water?             0  \n",
       "...                                                   ...           ...  \n",
       "404285  How many keywords are there in PERL Programmin...             0  \n",
       "404286         Is it true that there is life after death?             1  \n",
       "404287                                  What's this coin?             0  \n",
       "404288  I am having little hairfall problem but I want...             0  \n",
       "404289      What is it like to have sex with your cousin?             0  \n",
       "\n",
       "[404290 rows x 6 columns]"
      ]
     },
     "execution_count": 2,
     "metadata": {},
     "output_type": "execute_result"
    }
   ],
   "source": [
    "import pandas as pd\n",
    "import numpy as np\n",
    "raw_df=pd.read_csv('train_emotion.csv')\n",
    "raw_df"
   ]
  },
  {
   "cell_type": "code",
   "execution_count": 3,
   "id": "f959a888",
   "metadata": {},
   "outputs": [],
   "source": [
    "raw_df=raw_df.sample(350000)"
   ]
  },
  {
   "cell_type": "code",
   "execution_count": null,
   "id": "524a132e",
   "metadata": {},
   "outputs": [],
   "source": []
  },
  {
   "cell_type": "code",
   "execution_count": 4,
   "id": "f272fed2",
   "metadata": {},
   "outputs": [],
   "source": [
    "# Drop rows with missing values\n",
    "raw_df.dropna(inplace=True)\n",
    "\n",
    "# Split the data into question pairs and labels\n",
    "questions = raw_df[['question1', 'question2']]\n",
    "labels = raw_df['is_duplicate']"
   ]
  },
  {
   "cell_type": "code",
   "execution_count": 5,
   "id": "39977f78",
   "metadata": {},
   "outputs": [
    {
     "data": {
      "text/html": [
       "<div>\n",
       "<style scoped>\n",
       "    .dataframe tbody tr th:only-of-type {\n",
       "        vertical-align: middle;\n",
       "    }\n",
       "\n",
       "    .dataframe tbody tr th {\n",
       "        vertical-align: top;\n",
       "    }\n",
       "\n",
       "    .dataframe thead th {\n",
       "        text-align: right;\n",
       "    }\n",
       "</style>\n",
       "<table border=\"1\" class=\"dataframe\">\n",
       "  <thead>\n",
       "    <tr style=\"text-align: right;\">\n",
       "      <th></th>\n",
       "      <th>question1</th>\n",
       "      <th>question2</th>\n",
       "    </tr>\n",
       "  </thead>\n",
       "  <tbody>\n",
       "    <tr>\n",
       "      <th>346276</th>\n",
       "      <td>Which book is best for power systems?</td>\n",
       "      <td>What is the best book to refer to about power ...</td>\n",
       "    </tr>\n",
       "    <tr>\n",
       "      <th>164056</th>\n",
       "      <td>What all preparation do I need to do to clear ...</td>\n",
       "      <td>What should be the plan for preparation of CAT...</td>\n",
       "    </tr>\n",
       "    <tr>\n",
       "      <th>186213</th>\n",
       "      <td>What is the procedure for renewal of mudra loan?</td>\n",
       "      <td>What is the procedure of interest rate on loan...</td>\n",
       "    </tr>\n",
       "    <tr>\n",
       "      <th>173057</th>\n",
       "      <td>How do I lose weight fast?</td>\n",
       "      <td>How do I lose 30 kilos fast?</td>\n",
       "    </tr>\n",
       "    <tr>\n",
       "      <th>87513</th>\n",
       "      <td>Tests and my curiosity indicate I am gifted, b...</td>\n",
       "      <td>How can I learn empathy and curiosity about ot...</td>\n",
       "    </tr>\n",
       "    <tr>\n",
       "      <th>...</th>\n",
       "      <td>...</td>\n",
       "      <td>...</td>\n",
       "    </tr>\n",
       "    <tr>\n",
       "      <th>254852</th>\n",
       "      <td>Is anal sex harmful for health of both the par...</td>\n",
       "      <td>Why is Hong Kong rape law only lawful upon mal...</td>\n",
       "    </tr>\n",
       "    <tr>\n",
       "      <th>230246</th>\n",
       "      <td>Of all the things that were said to you out of...</td>\n",
       "      <td>Of all the things that were said to you out of...</td>\n",
       "    </tr>\n",
       "    <tr>\n",
       "      <th>191637</th>\n",
       "      <td>Who is founder of examtravel.com?</td>\n",
       "      <td>Who is the founder of Jugaadugar.com?</td>\n",
       "    </tr>\n",
       "    <tr>\n",
       "      <th>351752</th>\n",
       "      <td>Why are food so expensive in the airports? Are...</td>\n",
       "      <td>Why is airport food so expensive?</td>\n",
       "    </tr>\n",
       "    <tr>\n",
       "      <th>237122</th>\n",
       "      <td>Is it biologically good or bad to marry other ...</td>\n",
       "      <td>Is it good or bad to marry other caste?</td>\n",
       "    </tr>\n",
       "  </tbody>\n",
       "</table>\n",
       "<p>349997 rows × 2 columns</p>\n",
       "</div>"
      ],
      "text/plain": [
       "                                                question1  \\\n",
       "346276              Which book is best for power systems?   \n",
       "164056  What all preparation do I need to do to clear ...   \n",
       "186213   What is the procedure for renewal of mudra loan?   \n",
       "173057                         How do I lose weight fast?   \n",
       "87513   Tests and my curiosity indicate I am gifted, b...   \n",
       "...                                                   ...   \n",
       "254852  Is anal sex harmful for health of both the par...   \n",
       "230246  Of all the things that were said to you out of...   \n",
       "191637                  Who is founder of examtravel.com?   \n",
       "351752  Why are food so expensive in the airports? Are...   \n",
       "237122  Is it biologically good or bad to marry other ...   \n",
       "\n",
       "                                                question2  \n",
       "346276  What is the best book to refer to about power ...  \n",
       "164056  What should be the plan for preparation of CAT...  \n",
       "186213  What is the procedure of interest rate on loan...  \n",
       "173057                       How do I lose 30 kilos fast?  \n",
       "87513   How can I learn empathy and curiosity about ot...  \n",
       "...                                                   ...  \n",
       "254852  Why is Hong Kong rape law only lawful upon mal...  \n",
       "230246  Of all the things that were said to you out of...  \n",
       "191637              Who is the founder of Jugaadugar.com?  \n",
       "351752                  Why is airport food so expensive?  \n",
       "237122            Is it good or bad to marry other caste?  \n",
       "\n",
       "[349997 rows x 2 columns]"
      ]
     },
     "execution_count": 5,
     "metadata": {},
     "output_type": "execute_result"
    }
   ],
   "source": [
    "questions"
   ]
  },
  {
   "cell_type": "code",
   "execution_count": 6,
   "id": "b013544e",
   "metadata": {},
   "outputs": [
    {
     "data": {
      "text/plain": [
       "346276    1\n",
       "164056    1\n",
       "186213    0\n",
       "173057    1\n",
       "87513     0\n",
       "         ..\n",
       "254852    0\n",
       "230246    0\n",
       "191637    0\n",
       "351752    1\n",
       "237122    1\n",
       "Name: is_duplicate, Length: 349997, dtype: int64"
      ]
     },
     "execution_count": 6,
     "metadata": {},
     "output_type": "execute_result"
    }
   ],
   "source": [
    "labels"
   ]
  },
  {
   "cell_type": "code",
   "execution_count": 7,
   "id": "bd4ff295",
   "metadata": {},
   "outputs": [
    {
     "name": "stderr",
     "output_type": "stream",
     "text": [
      "[nltk_data] Error loading stopwords: <urlopen error [Errno 11001]\n",
      "[nltk_data]     getaddrinfo failed>\n"
     ]
    },
    {
     "data": {
      "text/plain": [
       "False"
      ]
     },
     "execution_count": 7,
     "metadata": {},
     "output_type": "execute_result"
    }
   ],
   "source": [
    "import nltk\n",
    "from nltk.stem import PorterStemmer\n",
    "from nltk.corpus import stopwords\n",
    "import string\n",
    "nltk.download('stopwords')"
   ]
  },
  {
   "cell_type": "code",
   "execution_count": 8,
   "id": "92c81edc",
   "metadata": {},
   "outputs": [],
   "source": [
    "ps=PorterStemmer()\n",
    "def transform_text(text):\n",
    "    text=text.lower()\n",
    "    text=nltk.word_tokenize(text)\n",
    "    \n",
    "    y=[]\n",
    "    \n",
    "    for i in text:\n",
    "        if i.isalnum():\n",
    "            y.append(i)\n",
    "    text=y[:]\n",
    "    \n",
    "    y.clear()\n",
    "    \n",
    "    for i in text:\n",
    "        if i not in stopwords.words('english') and i not in string.punctuation:\n",
    "            y.append(i)\n",
    "    text=y[:]\n",
    "    y.clear()\n",
    "    \n",
    "    for i in text:\n",
    "        y.append(ps.stem(i))\n",
    "    \n",
    "    return \" \".join(y)"
   ]
  },
  {
   "cell_type": "code",
   "execution_count": 9,
   "id": "731b3e54",
   "metadata": {},
   "outputs": [
    {
     "name": "stderr",
     "output_type": "stream",
     "text": [
      "C:\\Users\\himan\\AppData\\Local\\Temp\\ipykernel_18312\\3438459789.py:1: SettingWithCopyWarning: \n",
      "A value is trying to be set on a copy of a slice from a DataFrame.\n",
      "Try using .loc[row_indexer,col_indexer] = value instead\n",
      "\n",
      "See the caveats in the documentation: https://pandas.pydata.org/pandas-docs/stable/user_guide/indexing.html#returning-a-view-versus-a-copy\n",
      "  questions['question1']=questions['question1'].apply(transform_text)\n"
     ]
    }
   ],
   "source": [
    "questions['question1']=questions['question1'].apply(transform_text)\n"
   ]
  },
  {
   "cell_type": "code",
   "execution_count": 10,
   "id": "f4dc8fa2",
   "metadata": {},
   "outputs": [
    {
     "name": "stderr",
     "output_type": "stream",
     "text": [
      "C:\\Users\\himan\\AppData\\Local\\Temp\\ipykernel_18312\\3344618854.py:1: SettingWithCopyWarning: \n",
      "A value is trying to be set on a copy of a slice from a DataFrame.\n",
      "Try using .loc[row_indexer,col_indexer] = value instead\n",
      "\n",
      "See the caveats in the documentation: https://pandas.pydata.org/pandas-docs/stable/user_guide/indexing.html#returning-a-view-versus-a-copy\n",
      "  questions['question2']=questions['question2'].apply(transform_text)\n"
     ]
    }
   ],
   "source": [
    "questions['question2']=questions['question2'].apply(transform_text)\n"
   ]
  },
  {
   "cell_type": "code",
   "execution_count": 11,
   "id": "3d33754e",
   "metadata": {},
   "outputs": [
    {
     "data": {
      "text/html": [
       "<div>\n",
       "<style scoped>\n",
       "    .dataframe tbody tr th:only-of-type {\n",
       "        vertical-align: middle;\n",
       "    }\n",
       "\n",
       "    .dataframe tbody tr th {\n",
       "        vertical-align: top;\n",
       "    }\n",
       "\n",
       "    .dataframe thead th {\n",
       "        text-align: right;\n",
       "    }\n",
       "</style>\n",
       "<table border=\"1\" class=\"dataframe\">\n",
       "  <thead>\n",
       "    <tr style=\"text-align: right;\">\n",
       "      <th></th>\n",
       "      <th>question1</th>\n",
       "      <th>question2</th>\n",
       "    </tr>\n",
       "  </thead>\n",
       "  <tbody>\n",
       "    <tr>\n",
       "      <th>346276</th>\n",
       "      <td>book best power system</td>\n",
       "      <td>best book refer power system</td>\n",
       "    </tr>\n",
       "    <tr>\n",
       "      <th>164056</th>\n",
       "      <td>prepar need clear cat 2017</td>\n",
       "      <td>plan prepar cat 2017 onward</td>\n",
       "    </tr>\n",
       "    <tr>\n",
       "      <th>186213</th>\n",
       "      <td>procedur renew mudra loan</td>\n",
       "      <td>procedur interest rate loan taken bank interes...</td>\n",
       "    </tr>\n",
       "    <tr>\n",
       "      <th>173057</th>\n",
       "      <td>lose weight fast</td>\n",
       "      <td>lose 30 kilo fast</td>\n",
       "    </tr>\n",
       "    <tr>\n",
       "      <th>87513</th>\n",
       "      <td>test curios indic gift other seem learn often ...</td>\n",
       "      <td>learn empathi curios peopl</td>\n",
       "    </tr>\n",
       "    <tr>\n",
       "      <th>...</th>\n",
       "      <td>...</td>\n",
       "      <td>...</td>\n",
       "    </tr>\n",
       "    <tr>\n",
       "      <th>254852</th>\n",
       "      <td>anal sex harm health partner male femal</td>\n",
       "      <td>hong kong rape law law upon male lot case fema...</td>\n",
       "    </tr>\n",
       "    <tr>\n",
       "      <th>230246</th>\n",
       "      <td>thing said guilt stand</td>\n",
       "      <td>thing said infatu stand</td>\n",
       "    </tr>\n",
       "    <tr>\n",
       "      <th>191637</th>\n",
       "      <td>founder</td>\n",
       "      <td>founder</td>\n",
       "    </tr>\n",
       "    <tr>\n",
       "      <th>351752</th>\n",
       "      <td>food expens airport play monopoli rent expens</td>\n",
       "      <td>airport food expens</td>\n",
       "    </tr>\n",
       "    <tr>\n",
       "      <th>237122</th>\n",
       "      <td>biolog good bad marri cast</td>\n",
       "      <td>good bad marri cast</td>\n",
       "    </tr>\n",
       "  </tbody>\n",
       "</table>\n",
       "<p>349997 rows × 2 columns</p>\n",
       "</div>"
      ],
      "text/plain": [
       "                                                question1  \\\n",
       "346276                             book best power system   \n",
       "164056                         prepar need clear cat 2017   \n",
       "186213                          procedur renew mudra loan   \n",
       "173057                                   lose weight fast   \n",
       "87513   test curios indic gift other seem learn often ...   \n",
       "...                                                   ...   \n",
       "254852            anal sex harm health partner male femal   \n",
       "230246                             thing said guilt stand   \n",
       "191637                                            founder   \n",
       "351752      food expens airport play monopoli rent expens   \n",
       "237122                         biolog good bad marri cast   \n",
       "\n",
       "                                                question2  \n",
       "346276                       best book refer power system  \n",
       "164056                        plan prepar cat 2017 onward  \n",
       "186213  procedur interest rate loan taken bank interes...  \n",
       "173057                                  lose 30 kilo fast  \n",
       "87513                          learn empathi curios peopl  \n",
       "...                                                   ...  \n",
       "254852  hong kong rape law law upon male lot case fema...  \n",
       "230246                            thing said infatu stand  \n",
       "191637                                            founder  \n",
       "351752                                airport food expens  \n",
       "237122                                good bad marri cast  \n",
       "\n",
       "[349997 rows x 2 columns]"
      ]
     },
     "execution_count": 11,
     "metadata": {},
     "output_type": "execute_result"
    }
   ],
   "source": [
    "questions"
   ]
  },
  {
   "cell_type": "code",
   "execution_count": 12,
   "id": "d0be309f",
   "metadata": {},
   "outputs": [],
   "source": [
    "from sklearn.model_selection import train_test_split\n"
   ]
  },
  {
   "cell_type": "code",
   "execution_count": 13,
   "id": "ec81757b",
   "metadata": {},
   "outputs": [],
   "source": [
    "english_stopwords = stopwords.words('english')\n"
   ]
  },
  {
   "cell_type": "code",
   "execution_count": 14,
   "id": "18fdade3",
   "metadata": {},
   "outputs": [],
   "source": [
    "questions_train, questions_test, labels_train, labels_test = train_test_split(questions, labels, test_size=0.2, random_state=42)\n"
   ]
  },
  {
   "cell_type": "code",
   "execution_count": 15,
   "id": "2dd659eb",
   "metadata": {},
   "outputs": [],
   "source": [
    "from sklearn.feature_extraction.text import TfidfVectorizer\n",
    "\n",
    "tfidf = TfidfVectorizer(max_features=1000)"
   ]
  },
  {
   "cell_type": "code",
   "execution_count": 16,
   "id": "79615d84",
   "metadata": {},
   "outputs": [],
   "source": [
    "questions_train = tfidf.fit_transform(questions_train['question1'] + ' ' + questions_train['question2'])\n",
    "questions_test=tfidf.transform(questions_test['question1'] + ' ' + questions_test['question2'])"
   ]
  },
  {
   "cell_type": "code",
   "execution_count": 17,
   "id": "b128c43d",
   "metadata": {},
   "outputs": [
    {
     "data": {
      "text/plain": [
       "(279997, 1000)"
      ]
     },
     "execution_count": 17,
     "metadata": {},
     "output_type": "execute_result"
    }
   ],
   "source": [
    "questions_train.shape"
   ]
  },
  {
   "cell_type": "code",
   "execution_count": 18,
   "id": "fd751eae",
   "metadata": {},
   "outputs": [
    {
     "data": {
      "text/plain": [
       "(70000, 1000)"
      ]
     },
     "execution_count": 18,
     "metadata": {},
     "output_type": "execute_result"
    }
   ],
   "source": [
    "questions_test.shape"
   ]
  },
  {
   "cell_type": "code",
   "execution_count": 19,
   "id": "bfb001dc",
   "metadata": {},
   "outputs": [
    {
     "data": {
      "text/plain": [
       "(279997,)"
      ]
     },
     "execution_count": 19,
     "metadata": {},
     "output_type": "execute_result"
    }
   ],
   "source": [
    "labels_train.shape"
   ]
  },
  {
   "cell_type": "code",
   "execution_count": 20,
   "id": "5920ca6f",
   "metadata": {},
   "outputs": [
    {
     "data": {
      "text/plain": [
       "(70000,)"
      ]
     },
     "execution_count": 20,
     "metadata": {},
     "output_type": "execute_result"
    }
   ],
   "source": [
    "labels_test.shape"
   ]
  },
  {
   "cell_type": "code",
   "execution_count": 21,
   "id": "85dcf778",
   "metadata": {},
   "outputs": [
    {
     "data": {
      "text/plain": [
       "<279997x1000 sparse matrix of type '<class 'numpy.float64'>'\n",
       "\twith 1436691 stored elements in Compressed Sparse Row format>"
      ]
     },
     "execution_count": 21,
     "metadata": {},
     "output_type": "execute_result"
    }
   ],
   "source": [
    "questions_train"
   ]
  },
  {
   "cell_type": "code",
   "execution_count": 22,
   "id": "48f75134",
   "metadata": {},
   "outputs": [],
   "source": [
    "import torch\n",
    "from torch.utils.data import TensorDataset, DataLoader\n",
    "import torch.nn.functional as F"
   ]
  },
  {
   "cell_type": "code",
   "execution_count": null,
   "id": "fa1efe9a",
   "metadata": {},
   "outputs": [],
   "source": []
  },
  {
   "cell_type": "code",
   "execution_count": 23,
   "id": "43b144d6",
   "metadata": {},
   "outputs": [],
   "source": [
    "train_tensors = F.normalize(torch.tensor(questions_train.toarray()).float(), dim=1)\n",
    "val_tensors = F.normalize(torch.tensor(questions_test.toarray()).float(), dim=1)"
   ]
  },
  {
   "cell_type": "code",
   "execution_count": 24,
   "id": "01dc90dd",
   "metadata": {},
   "outputs": [
    {
     "data": {
      "text/plain": [
       "(torch.Size([279997, 1000]), torch.Size([70000, 1000]))"
      ]
     },
     "execution_count": 24,
     "metadata": {},
     "output_type": "execute_result"
    }
   ],
   "source": [
    "train_tensors.shape, val_tensors.shape\n"
   ]
  },
  {
   "cell_type": "code",
   "execution_count": 25,
   "id": "a8033a0d",
   "metadata": {},
   "outputs": [
    {
     "data": {
      "text/plain": [
       "pandas.core.series.Series"
      ]
     },
     "execution_count": 25,
     "metadata": {},
     "output_type": "execute_result"
    }
   ],
   "source": [
    "type(labels_train)\n"
   ]
  },
  {
   "cell_type": "code",
   "execution_count": 26,
   "id": "44090cfc",
   "metadata": {},
   "outputs": [],
   "source": [
    "labels_train=np.array(labels_train)\n"
   ]
  },
  {
   "cell_type": "code",
   "execution_count": 27,
   "id": "d652d0ed",
   "metadata": {},
   "outputs": [],
   "source": [
    "labels_test=np.array(labels_test)"
   ]
  },
  {
   "cell_type": "code",
   "execution_count": 28,
   "id": "bfbe4ad8",
   "metadata": {},
   "outputs": [],
   "source": [
    "train_ds = TensorDataset(train_tensors, torch.tensor(labels_train))\n",
    "val_ds = TensorDataset(val_tensors, torch.tensor(labels_test))"
   ]
  },
  {
   "cell_type": "code",
   "execution_count": 29,
   "id": "5dc38d26",
   "metadata": {},
   "outputs": [
    {
     "data": {
      "text/plain": [
       "279997"
      ]
     },
     "execution_count": 29,
     "metadata": {},
     "output_type": "execute_result"
    }
   ],
   "source": [
    "len(train_ds)\n"
   ]
  },
  {
   "cell_type": "code",
   "execution_count": 30,
   "id": "40d826cf",
   "metadata": {},
   "outputs": [
    {
     "data": {
      "text/plain": [
       "70000"
      ]
     },
     "execution_count": 30,
     "metadata": {},
     "output_type": "execute_result"
    }
   ],
   "source": [
    "len(val_ds)"
   ]
  },
  {
   "cell_type": "code",
   "execution_count": 31,
   "id": "63b2a5c6",
   "metadata": {},
   "outputs": [],
   "source": [
    "batch_size = 128\n",
    "train_dl = DataLoader(train_ds, batch_size, shuffle=True)\n",
    "val_dl = DataLoader(val_ds, batch_size)"
   ]
  },
  {
   "cell_type": "code",
   "execution_count": 32,
   "id": "d4bf7265",
   "metadata": {},
   "outputs": [
    {
     "name": "stdout",
     "output_type": "stream",
     "text": [
      "inputs.shape torch.Size([128, 1000])\n",
      "targets.shape torch.Size([128])\n",
      "tensor([1, 0, 1, 1, 1, 1, 1, 1, 1, 1, 0, 1, 0, 1, 0, 0, 0, 1, 1, 0, 1, 0, 0, 0,\n",
      "        0, 0, 1, 0, 1, 0, 0, 0, 1, 0, 1, 1, 1, 1, 0, 0, 1, 0, 0, 1, 0, 0, 1, 0,\n",
      "        0, 0, 0, 0, 0, 0, 0, 0, 0, 0, 0, 0, 0, 1, 0, 1, 0, 0, 0, 0, 0, 0, 1, 0,\n",
      "        1, 1, 1, 1, 0, 1, 0, 0, 0, 0, 0, 0, 1, 1, 0, 1, 0, 1, 0, 0, 1, 1, 0, 0,\n",
      "        0, 0, 0, 0, 1, 0, 1, 0, 0, 0, 1, 1, 1, 1, 0, 1, 0, 0, 0, 0, 0, 0, 0, 0,\n",
      "        1, 0, 0, 0, 0, 0, 1, 0])\n"
     ]
    }
   ],
   "source": [
    "for inputs_batch, targets_batch in train_dl:\n",
    "    print('inputs.shape', inputs_batch.shape)\n",
    "    print('targets.shape', targets_batch.shape)\n",
    "    print(targets_batch)\n",
    "    break"
   ]
  },
  {
   "cell_type": "code",
   "execution_count": 33,
   "id": "430a6334",
   "metadata": {},
   "outputs": [],
   "source": [
    "import torch.nn as nn\n"
   ]
  },
  {
   "cell_type": "code",
   "execution_count": 34,
   "id": "a827bb5f",
   "metadata": {},
   "outputs": [],
   "source": [
    "class LogReg(nn.Module):\n",
    "    def __init__(self):\n",
    "        super().__init__()\n",
    "        self.linear1 = nn.Linear(1000, 1)\n",
    "        \n",
    "    def forward(self, xb):\n",
    "        out = self.linear1(xb)\n",
    "        return out"
   ]
  },
  {
   "cell_type": "code",
   "execution_count": 35,
   "id": "39b30c9a",
   "metadata": {},
   "outputs": [],
   "source": [
    "import numpy as np\n",
    "from sklearn.metrics import accuracy_score, f1_score"
   ]
  },
  {
   "cell_type": "code",
   "execution_count": 36,
   "id": "4d62227a",
   "metadata": {},
   "outputs": [],
   "source": [
    "logreg_model = LogReg()\n"
   ]
  },
  {
   "cell_type": "code",
   "execution_count": 37,
   "id": "ff7118d7",
   "metadata": {},
   "outputs": [
    {
     "name": "stdout",
     "output_type": "stream",
     "text": [
      "inputs.shape torch.Size([128, 1000])\n",
      "targets tensor([1, 0, 1, 1, 1, 0, 1, 1, 1, 1, 0, 0, 0, 0, 0, 0, 1, 0, 0, 0, 0, 0, 1, 0,\n",
      "        0, 0, 1, 0, 1, 0, 1, 0, 0, 0, 1, 0, 0, 1, 1, 0, 1, 0, 0, 0, 1, 0, 0, 0,\n",
      "        0, 0, 1, 1, 1, 0, 0, 0, 0, 1, 1, 1, 0, 0, 0, 0, 1, 0, 0, 0, 0, 0, 0, 1,\n",
      "        0, 1, 0, 1, 0, 1, 1, 0, 1, 1, 0, 0, 1, 1, 0, 0, 0, 0, 1, 0, 0, 1, 1, 0,\n",
      "        0, 1, 0, 0, 1, 0, 1, 0, 0, 0, 0, 0, 1, 0, 0, 1, 0, 0, 0, 1, 0, 0, 1, 1,\n",
      "        0, 1, 1, 1, 0, 1, 1, 0])\n",
      "outputs tensor([1, 1, 1, 1, 1, 1, 1, 1, 1, 1, 1, 1, 1, 1, 1, 1, 1, 1, 1, 1, 1, 1, 1, 1,\n",
      "        1, 0, 1, 1, 1, 1, 1, 0, 1, 1, 1, 1, 0, 1, 1, 1, 1, 1, 1, 1, 1, 1, 1, 1,\n",
      "        1, 1, 1, 1, 1, 1, 1, 1, 1, 1, 1, 1, 1, 1, 1, 1, 1, 1, 1, 1, 1, 1, 1, 1,\n",
      "        1, 1, 1, 1, 1, 1, 1, 1, 1, 1, 1, 1, 1, 1, 1, 1, 1, 1, 1, 1, 1, 1, 1, 1,\n",
      "        1, 1, 1, 1, 1, 1, 1, 1, 1, 1, 1, 1, 1, 1, 1, 1, 1, 1, 1, 1, 1, 1, 1, 1,\n",
      "        1, 1, 1, 1, 1, 1, 1, 1], dtype=torch.int32)\n",
      "accuracy 0.4140625\n",
      "f1_score 0.5714285714285715\n"
     ]
    }
   ],
   "source": [
    "for batch in val_dl:\n",
    "    batch_inputs, batch_targets = batch\n",
    "    print('inputs.shape', batch_inputs.shape)\n",
    "    print('targets', batch_targets)\n",
    "    \n",
    "    batch_out = logreg_model(batch_inputs)\n",
    "    probs = torch.sigmoid(batch_out[:,0])\n",
    "    preds = (probs >= 0.5).int()\n",
    "    \n",
    "    print('outputs', preds)\n",
    "    print('accuracy', accuracy_score(batch_targets, preds))\n",
    "    print('f1_score', f1_score(batch_targets, preds))\n",
    "    break"
   ]
  },
  {
   "cell_type": "code",
   "execution_count": 38,
   "id": "e0842502",
   "metadata": {},
   "outputs": [],
   "source": [
    "def evaluate(model, dl):\n",
    "    losses, accs, f1s = [], [], []\n",
    "    for batch in dl:\n",
    "        inputs, targets = batch\n",
    "        out = model(inputs)\n",
    "        \n",
    "        probs = torch.sigmoid(out[:,0])\n",
    "        loss = F.binary_cross_entropy(probs, targets.float(), weight=torch.tensor(20.))\n",
    "        losses.append(loss.item())\n",
    "\n",
    "        preds = (probs > 0.5).int()\n",
    "        acc = accuracy_score(targets, preds)\n",
    "        f1 = f1_score(targets, preds)\n",
    "        \n",
    "        accs.append(acc)\n",
    "        f1s.append(f1)\n",
    "\n",
    "    return np.mean(losses), np.mean(accs), np.mean(f1s)"
   ]
  },
  {
   "cell_type": "code",
   "execution_count": 39,
   "id": "e93969c0",
   "metadata": {},
   "outputs": [],
   "source": [
    "history = [] # for recording epoch-wise results"
   ]
  },
  {
   "cell_type": "code",
   "execution_count": 40,
   "id": "e4564583",
   "metadata": {},
   "outputs": [],
   "source": [
    "def fit(epochs, lr, model, train_loader, val_loader):\n",
    "    optimizer = torch.optim.Adam(model.parameters(), lr, weight_decay=1e-5)\n",
    "    \n",
    "    for epoch in range(epochs):\n",
    "        \n",
    "        # Training Phase \n",
    "        for batch in train_loader:\n",
    "            inputs, targets = batch\n",
    "            out = model(inputs)\n",
    "            probs = torch.sigmoid(out[:,0])\n",
    "            loss = F.binary_cross_entropy(probs, \n",
    "                                          targets.float(), \n",
    "                                          weight=torch.tensor(20.))\n",
    "            loss.backward()\n",
    "            optimizer.step()\n",
    "            optimizer.zero_grad()\n",
    "        \n",
    "        # Validation phase\n",
    "        result = evaluate(model, val_loader)\n",
    "        loss, acc, f1 = result\n",
    "        print('Epoch: {}; Loss: {:.4f}; Accuracy: {:.4f}; F1 Score: {:.4f}'.format(\n",
    "            epoch, loss, acc, f1))\n",
    "        history.append(result)"
   ]
  },
  {
   "cell_type": "code",
   "execution_count": 41,
   "id": "388b45fa",
   "metadata": {},
   "outputs": [],
   "source": [
    "logreg_model = LogReg()\n"
   ]
  },
  {
   "cell_type": "code",
   "execution_count": 42,
   "id": "a37312df",
   "metadata": {},
   "outputs": [
    {
     "name": "stdout",
     "output_type": "stream",
     "text": [
      "inputs.shape torch.Size([128, 1000])\n",
      "targets tensor([1, 0, 1, 1, 1, 0, 1, 1, 1, 1, 0, 0, 0, 0, 0, 0, 1, 0, 0, 0, 0, 0, 1, 0,\n",
      "        0, 0, 1, 0, 1, 0, 1, 0, 0, 0, 1, 0, 0, 1, 1, 0, 1, 0, 0, 0, 1, 0, 0, 0,\n",
      "        0, 0, 1, 1, 1, 0, 0, 0, 0, 1, 1, 1, 0, 0, 0, 0, 1, 0, 0, 0, 0, 0, 0, 1,\n",
      "        0, 1, 0, 1, 0, 1, 1, 0, 1, 1, 0, 0, 1, 1, 0, 0, 0, 0, 1, 0, 0, 1, 1, 0,\n",
      "        0, 1, 0, 0, 1, 0, 1, 0, 0, 0, 0, 0, 1, 0, 0, 1, 0, 0, 0, 1, 0, 0, 1, 1,\n",
      "        0, 1, 1, 1, 0, 1, 1, 0])\n",
      "outputs tensor([1, 1, 1, 1, 1, 1, 1, 1, 1, 1, 1, 1, 1, 1, 1, 1, 1, 1, 1, 0, 1, 1, 1, 1,\n",
      "        1, 1, 1, 1, 1, 1, 1, 1, 0, 1, 1, 1, 1, 1, 0, 1, 1, 1, 1, 1, 1, 1, 1, 1,\n",
      "        1, 1, 1, 1, 1, 1, 1, 1, 1, 1, 1, 1, 1, 1, 1, 1, 1, 1, 1, 1, 1, 1, 1, 1,\n",
      "        1, 1, 0, 1, 1, 1, 1, 1, 1, 0, 1, 1, 0, 1, 1, 1, 1, 1, 1, 1, 1, 1, 1, 1,\n",
      "        1, 1, 1, 1, 1, 1, 1, 1, 1, 1, 1, 1, 1, 1, 0, 1, 1, 1, 1, 1, 1, 1, 0, 1,\n",
      "        1, 1, 1, 1, 1, 1, 1, 1], dtype=torch.int32)\n",
      "accuracy 0.390625\n",
      "f1_score 0.5411764705882353\n"
     ]
    }
   ],
   "source": [
    "for batch in val_dl:\n",
    "    batch_inputs, batch_targets = batch\n",
    "    print('inputs.shape', batch_inputs.shape)\n",
    "    print('targets', batch_targets)\n",
    "    \n",
    "    batch_out = logreg_model(batch_inputs)\n",
    "    probs = torch.sigmoid(batch_out[:,0])\n",
    "    preds = (probs >= 0.5).int()\n",
    "    \n",
    "    print('outputs', preds)\n",
    "    print('accuracy', accuracy_score(batch_targets, preds))\n",
    "    print('f1_score', f1_score(batch_targets, preds))\n",
    "    break"
   ]
  },
  {
   "cell_type": "code",
   "execution_count": 43,
   "id": "3ee44d4e",
   "metadata": {},
   "outputs": [
    {
     "data": {
      "text/plain": [
       "[]"
      ]
     },
     "execution_count": 43,
     "metadata": {},
     "output_type": "execute_result"
    }
   ],
   "source": [
    "history\n"
   ]
  },
  {
   "cell_type": "code",
   "execution_count": 44,
   "id": "6f2587a0",
   "metadata": {},
   "outputs": [
    {
     "name": "stdout",
     "output_type": "stream",
     "text": [
      "Epoch: 0; Loss: 11.2910; Accuracy: 0.7036; F1 Score: 0.5285\n",
      "Epoch: 1; Loss: 11.2736; Accuracy: 0.7015; F1 Score: 0.5218\n",
      "Epoch: 2; Loss: 11.2707; Accuracy: 0.7025; F1 Score: 0.5239\n",
      "Epoch: 3; Loss: 11.2661; Accuracy: 0.7017; F1 Score: 0.5272\n",
      "Epoch: 4; Loss: 11.2778; Accuracy: 0.7016; F1 Score: 0.5363\n"
     ]
    }
   ],
   "source": [
    "fit(5, 0.01, logreg_model, train_dl, val_dl)\n"
   ]
  },
  {
   "cell_type": "code",
   "execution_count": 45,
   "id": "748d30da",
   "metadata": {},
   "outputs": [
    {
     "name": "stdout",
     "output_type": "stream",
     "text": [
      "Epoch: 0; Loss: 11.2733; Accuracy: 0.7013; F1 Score: 0.5138\n",
      "Epoch: 1; Loss: 11.2714; Accuracy: 0.7019; F1 Score: 0.5303\n",
      "Epoch: 2; Loss: 11.2703; Accuracy: 0.7028; F1 Score: 0.5253\n",
      "Epoch: 3; Loss: 11.2754; Accuracy: 0.7029; F1 Score: 0.5275\n",
      "Epoch: 4; Loss: 11.2771; Accuracy: 0.7011; F1 Score: 0.5210\n"
     ]
    }
   ],
   "source": [
    "fit(5, 0.01, logreg_model, train_dl, val_dl)\n"
   ]
  },
  {
   "cell_type": "code",
   "execution_count": 46,
   "id": "d2014354",
   "metadata": {},
   "outputs": [
    {
     "name": "stdout",
     "output_type": "stream",
     "text": [
      "Epoch: 0; Loss: 11.2697; Accuracy: 0.7019; F1 Score: 0.5211\n",
      "Epoch: 1; Loss: 11.2779; Accuracy: 0.7015; F1 Score: 0.5185\n",
      "Epoch: 2; Loss: 11.2723; Accuracy: 0.7024; F1 Score: 0.5326\n",
      "Epoch: 3; Loss: 11.2799; Accuracy: 0.7023; F1 Score: 0.5156\n",
      "Epoch: 4; Loss: 11.2729; Accuracy: 0.7010; F1 Score: 0.5248\n"
     ]
    }
   ],
   "source": [
    "fit(5, 0.01, logreg_model, train_dl, val_dl)\n"
   ]
  },
  {
   "cell_type": "code",
   "execution_count": 47,
   "id": "4af131a6",
   "metadata": {},
   "outputs": [],
   "source": [
    "losses = [item[0] for item in history]\n"
   ]
  },
  {
   "cell_type": "code",
   "execution_count": 48,
   "id": "3d1bd7ed",
   "metadata": {},
   "outputs": [],
   "source": [
    "import matplotlib.pyplot as plt\n"
   ]
  },
  {
   "cell_type": "code",
   "execution_count": 49,
   "id": "daacd5d7",
   "metadata": {},
   "outputs": [
    {
     "data": {
      "text/plain": [
       "Text(0.5, 1.0, 'Loss')"
      ]
     },
     "execution_count": 49,
     "metadata": {},
     "output_type": "execute_result"
    },
    {
     "data": {
      "image/png": "[encoded data removed]",
      "text/plain": [
       "<Figure size 640x480 with 1 Axes>"
      ]
     },
     "metadata": {},
     "output_type": "display_data"
    }
   ],
   "source": [
    "plt.plot(losses);\n",
    "plt.title('Loss')"
   ]
  },
  {
   "cell_type": "code",
   "execution_count": 50,
   "id": "ec56faa7",
   "metadata": {},
   "outputs": [],
   "source": [
    "f1s = [item[2] for item in history]\n"
   ]
  },
  {
   "cell_type": "code",
   "execution_count": 51,
   "id": "29f479fd",
   "metadata": {},
   "outputs": [
    {
     "data": {
      "text/plain": [
       "Text(0.5, 1.0, 'F1 Score')"
      ]
     },
     "execution_count": 51,
     "metadata": {},
     "output_type": "execute_result"
    },
    {
     "data": {
      "image/png": "[encoded data removed]",
      "text/plain": [
       "<Figure size 640x480 with 1 Axes>"
      ]
     },
     "metadata": {},
     "output_type": "display_data"
    }
   ],
   "source": [
    "plt.plot(f1s)\n",
    "plt.title('F1 Score')"
   ]
  },
  {
   "cell_type": "code",
   "execution_count": 52,
   "id": "e3a7a3ad",
   "metadata": {},
   "outputs": [],
   "source": [
    "import torch.nn.functional as F\n"
   ]
  },
  {
   "cell_type": "markdown",
   "id": "8a98e46b",
   "metadata": {},
   "source": [
    "# FeedForwardModel"
   ]
  },
  {
   "cell_type": "code",
   "execution_count": 53,
   "id": "9bd4ccb0",
   "metadata": {},
   "outputs": [],
   "source": [
    "class FeedForwardModel(nn.Module):\n",
    "    def __init__(self):\n",
    "        super().__init__()\n",
    "        self.linear1 = nn.Linear(1000, 512)\n",
    "        self.linear2 = nn.Linear(512, 256)\n",
    "        self.linear3 = nn.Linear(256, 128)\n",
    "        self.linear4 = nn.Linear(128, 1)\n",
    "        \n",
    "    def forward(self, xb):\n",
    "        out = F.relu(self.linear1(xb))\n",
    "        out = F.relu(self.linear2(out))\n",
    "        out = F.relu(self.linear3(out))\n",
    "        out = self.linear4(out)\n",
    "        return out"
   ]
  },
  {
   "cell_type": "code",
   "execution_count": 54,
   "id": "ba64e187",
   "metadata": {},
   "outputs": [],
   "source": [
    "ff_model = FeedForwardModel()\n"
   ]
  },
  {
   "cell_type": "code",
   "execution_count": 55,
   "id": "9c48511e",
   "metadata": {},
   "outputs": [],
   "source": [
    "history = [evaluate(ff_model, val_dl)]\n"
   ]
  },
  {
   "cell_type": "code",
   "execution_count": 56,
   "id": "aa27a33a",
   "metadata": {},
   "outputs": [
    {
     "data": {
      "text/plain": [
       "[(13.72232848591081, 0.6304599764951684, 0.0)]"
      ]
     },
     "execution_count": 56,
     "metadata": {},
     "output_type": "execute_result"
    }
   ],
   "source": [
    "history\n"
   ]
  },
  {
   "cell_type": "code",
   "execution_count": 57,
   "id": "0bb830c3",
   "metadata": {},
   "outputs": [
    {
     "name": "stdout",
     "output_type": "stream",
     "text": [
      "Epoch: 0; Loss: 10.0812; Accuracy: 0.7475; F1 Score: 0.5785\n",
      "Epoch: 1; Loss: 9.7319; Accuracy: 0.7618; F1 Score: 0.6287\n",
      "Epoch: 2; Loss: 9.6932; Accuracy: 0.7686; F1 Score: 0.6463\n",
      "Epoch: 3; Loss: 10.0994; Accuracy: 0.7702; F1 Score: 0.6535\n",
      "Epoch: 4; Loss: 10.9897; Accuracy: 0.7666; F1 Score: 0.6586\n"
     ]
    }
   ],
   "source": [
    "fit(5, 0.001, ff_model, train_dl, val_dl)\n"
   ]
  },
  {
   "cell_type": "code",
   "execution_count": 61,
   "id": "ad5252ed",
   "metadata": {},
   "outputs": [
    {
     "data": {
      "text/html": [
       "<div>\n",
       "<style scoped>\n",
       "    .dataframe tbody tr th:only-of-type {\n",
       "        vertical-align: middle;\n",
       "    }\n",
       "\n",
       "    .dataframe tbody tr th {\n",
       "        vertical-align: top;\n",
       "    }\n",
       "\n",
       "    .dataframe thead th {\n",
       "        text-align: right;\n",
       "    }\n",
       "</style>\n",
       "<table border=\"1\" class=\"dataframe\">\n",
       "  <thead>\n",
       "    <tr style=\"text-align: right;\">\n",
       "      <th></th>\n",
       "      <th>test_id</th>\n",
       "      <th>question1</th>\n",
       "      <th>question2</th>\n",
       "    </tr>\n",
       "  </thead>\n",
       "  <tbody>\n",
       "    <tr>\n",
       "      <th>0</th>\n",
       "      <td>0</td>\n",
       "      <td>How does the Surface Pro himself 4 compare wit...</td>\n",
       "      <td>Why did Microsoft choose core m3 and not core ...</td>\n",
       "    </tr>\n",
       "    <tr>\n",
       "      <th>1</th>\n",
       "      <td>1</td>\n",
       "      <td>Should I have a hair transplant at age 24? How...</td>\n",
       "      <td>How much cost does hair transplant require?</td>\n",
       "    </tr>\n",
       "    <tr>\n",
       "      <th>2</th>\n",
       "      <td>2</td>\n",
       "      <td>What but is the best way to send money from Ch...</td>\n",
       "      <td>What you send money to China?</td>\n",
       "    </tr>\n",
       "    <tr>\n",
       "      <th>3</th>\n",
       "      <td>3</td>\n",
       "      <td>Which food not emulsifiers?</td>\n",
       "      <td>What foods fibre?</td>\n",
       "    </tr>\n",
       "    <tr>\n",
       "      <th>4</th>\n",
       "      <td>4</td>\n",
       "      <td>How \"aberystwyth\" start reading?</td>\n",
       "      <td>How their can I start reading?</td>\n",
       "    </tr>\n",
       "    <tr>\n",
       "      <th>...</th>\n",
       "      <td>...</td>\n",
       "      <td>...</td>\n",
       "      <td>...</td>\n",
       "    </tr>\n",
       "    <tr>\n",
       "      <th>2345791</th>\n",
       "      <td>2345791</td>\n",
       "      <td>How do Peaks (TV series): Why did Leland kill ...</td>\n",
       "      <td>What is the most study scene in twin peaks?</td>\n",
       "    </tr>\n",
       "    <tr>\n",
       "      <th>2345792</th>\n",
       "      <td>2345792</td>\n",
       "      <td>What does be \"in transit\" mean on FedEx tracking?</td>\n",
       "      <td>How question FedEx packages delivered?</td>\n",
       "    </tr>\n",
       "    <tr>\n",
       "      <th>2345793</th>\n",
       "      <td>2345793</td>\n",
       "      <td>What are some famous Romanian drinks (alcoholi...</td>\n",
       "      <td>Can a non-alcoholic restaurant be a huge success?</td>\n",
       "    </tr>\n",
       "    <tr>\n",
       "      <th>2345794</th>\n",
       "      <td>2345794</td>\n",
       "      <td>What were the best and worst things about publ...</td>\n",
       "      <td>What are the best and worst things examination...</td>\n",
       "    </tr>\n",
       "    <tr>\n",
       "      <th>2345795</th>\n",
       "      <td>2345795</td>\n",
       "      <td>What is the best medication equation erectile ...</td>\n",
       "      <td>How do I out get rid of Erectile Dysfunction?</td>\n",
       "    </tr>\n",
       "  </tbody>\n",
       "</table>\n",
       "<p>2345796 rows × 3 columns</p>\n",
       "</div>"
      ],
      "text/plain": [
       "         test_id                                          question1  \\\n",
       "0              0  How does the Surface Pro himself 4 compare wit...   \n",
       "1              1  Should I have a hair transplant at age 24? How...   \n",
       "2              2  What but is the best way to send money from Ch...   \n",
       "3              3                        Which food not emulsifiers?   \n",
       "4              4                   How \"aberystwyth\" start reading?   \n",
       "...          ...                                                ...   \n",
       "2345791  2345791  How do Peaks (TV series): Why did Leland kill ...   \n",
       "2345792  2345792  What does be \"in transit\" mean on FedEx tracking?   \n",
       "2345793  2345793  What are some famous Romanian drinks (alcoholi...   \n",
       "2345794  2345794  What were the best and worst things about publ...   \n",
       "2345795  2345795  What is the best medication equation erectile ...   \n",
       "\n",
       "                                                 question2  \n",
       "0        Why did Microsoft choose core m3 and not core ...  \n",
       "1              How much cost does hair transplant require?  \n",
       "2                            What you send money to China?  \n",
       "3                                        What foods fibre?  \n",
       "4                           How their can I start reading?  \n",
       "...                                                    ...  \n",
       "2345791        What is the most study scene in twin peaks?  \n",
       "2345792             How question FedEx packages delivered?  \n",
       "2345793  Can a non-alcoholic restaurant be a huge success?  \n",
       "2345794  What are the best and worst things examination...  \n",
       "2345795      How do I out get rid of Erectile Dysfunction?  \n",
       "\n",
       "[2345796 rows x 3 columns]"
      ]
     },
     "execution_count": 61,
     "metadata": {},
     "output_type": "execute_result"
    }
   ],
   "source": [
    "test_df=pd.read_csv('test_quora.csv')\n",
    "test_df"
   ]
  },
  {
   "cell_type": "code",
   "execution_count": 63,
   "id": "efbf7df0",
   "metadata": {},
   "outputs": [],
   "source": [
    "test_df.dropna(inplace=True)\n"
   ]
  },
  {
   "cell_type": "code",
   "execution_count": 64,
   "id": "5fd1127c",
   "metadata": {},
   "outputs": [],
   "source": [
    "test_inputs = tfidf.transform(test_df['question1'] + ' ' + test_df['question2'])"
   ]
  },
  {
   "cell_type": "code",
   "execution_count": 65,
   "id": "7b95ba74",
   "metadata": {},
   "outputs": [],
   "source": [
    "test_tensors = torch.tensor(test_inputs.toarray()).float()\n"
   ]
  },
  {
   "cell_type": "code",
   "execution_count": 66,
   "id": "a2d5e00f",
   "metadata": {},
   "outputs": [],
   "source": [
    "test_ds = TensorDataset(test_tensors)\n"
   ]
  },
  {
   "cell_type": "code",
   "execution_count": 67,
   "id": "9ab95464",
   "metadata": {},
   "outputs": [],
   "source": [
    "test_dl = DataLoader(test_ds, batch_size)\n"
   ]
  },
  {
   "cell_type": "code",
   "execution_count": 68,
   "id": "4c5e7537",
   "metadata": {},
   "outputs": [],
   "source": [
    "def predict(model, dl):\n",
    "    all_preds = []\n",
    "    for batch in dl:\n",
    "        inputs, = batch\n",
    "        out = model(inputs)\n",
    "        probs = torch.sigmoid(out)[:,0]\n",
    "        preds = (probs > 0.5).int()\n",
    "        all_preds += list(preds.numpy())\n",
    "    return all_preds"
   ]
  },
  {
   "cell_type": "code",
   "execution_count": 69,
   "id": "94057717",
   "metadata": {},
   "outputs": [],
   "source": [
    "test_preds = predict(ff_model, test_dl)\n"
   ]
  },
  {
   "cell_type": "code",
   "execution_count": 80,
   "id": "ea087a07",
   "metadata": {},
   "outputs": [
    {
     "data": {
      "text/plain": [
       "2345790"
      ]
     },
     "execution_count": 80,
     "metadata": {},
     "output_type": "execute_result"
    }
   ],
   "source": [
    "len(test_preds)"
   ]
  },
  {
   "cell_type": "code",
   "execution_count": 70,
   "id": "a534b0ca",
   "metadata": {},
   "outputs": [
    {
     "data": {
      "text/plain": [
       "[0, 0, 0, 0, 0, 0, 0, 1, 1, 0, 0, 0, 0, 0, 0, 0, 0, 1, 1, 0]"
      ]
     },
     "execution_count": 70,
     "metadata": {},
     "output_type": "execute_result"
    }
   ],
   "source": [
    "test_preds[:20]\n"
   ]
  }
 ],
 "metadata": {
  "kernelspec": {
   "display_name": "Python 3 (ipykernel)",
   "language": "python",
   "name": "python3"
  },
  "language_info": {
   "codemirror_mode": {
    "name": "ipython",
    "version": 3
   },
   "file_extension": ".py",
   "mimetype": "text/x-python",
   "name": "python",
   "nbconvert_exporter": "python",
   "pygments_lexer": "ipython3",
   "version": "3.11.5"
  }
 },
 "nbformat": 4,
 "nbformat_minor": 5
}
